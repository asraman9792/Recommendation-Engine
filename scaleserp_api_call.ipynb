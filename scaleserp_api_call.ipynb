{
 "cells": [
  {
   "cell_type": "code",
   "execution_count": 12,
   "metadata": {},
   "outputs": [
    {
     "name": "stdout",
     "output_type": "stream",
     "text": [
      "{'request_info': {'success': True, 'credits_used': 24, 'credits_remaining': 101}, 'search_metadata': {'created_at': '2020-06-18T12:47:19.700Z', 'processed_at': '2020-06-18T12:47:23.429Z', 'total_time_taken': 3.73, 'engine_url': 'https://www.google.com/search?q=T+shirt&uule=w+CAIQICIfTmV3IFlvcmssTmV3IFlvcmssVW5pdGVkIFN0YXRlcw&gl=us&hl=en&tbm=shop&tbs=vw:l', 'html_url': 'https://api.scaleserp.com/search?api_key=EE828C2230C5477CA4EE6E1A1C7D8C69&engine=google&location=New+York,New+York,United+States&search_type=shopping&q=T+shirt&output=html', 'json_url': 'https://api.scaleserp.com/search?api_key=EE828C2230C5477CA4EE6E1A1C7D8C69&engine=google&location=New+York,New+York,United+States&search_type=shopping&q=T+shirt&output=json', 'location_auto_message': \"We have automatically set the 'google_domain', 'gl' and 'hl' parameters to match the supplied location of 'New York,New York,United States'. You can stop this behaviour by setting the 'location_auto' parameter to 'false'.\", 'timing': ['global_init - 0ms (total 0ms)', 'auth_apikey - 58ms (total 58ms)', 'auth_retrieve_plan - 57ms (total 116ms)', 'auth_retrieve_credit_usage - 125ms (total 242ms)', 'processing_invoking_worker - 1ms (total 243ms)', 'processing_execution_complete - 3728ms (total 3972ms)', 'auth_credit_usage_reconcile - 58ms (total 4030ms)', 'global_end - 0ms (total 4030ms)']}, 'search_parameters': {'location': 'New York,New York,United States', 'search_type': 'shopping', 'q': 'T shirt'}, 'search_information': {'original_query_yields_zero_results': False, 'query_displayed': 'T shirt'}, 'ads': [{'position': 1, 'block_position': 'bottom', 'title': \"Men's T-Shirts & Tees | Banana Republic\\u200e\", 'link': 'https://bananarepublic.gap.com/browse/category.do?cid=80117', 'tracking_link': 'https://www.google.com/aclk?sa=l&ai=DChcSEwiE7q7rsovqAhXBg5EKHYDKBuoYABACGgJjZQ&sig=AOD64_15fr85LwVSahWhGgyDb-dt-YBBUA&q=&ved=2ahUKEwiLwKrrsovqAhXbH7kGHf0gDPIQ0Qx6BAgAEAE&adurl=', 'domain': 'bananarepublic.gap.com', 'displayed_link': 'bananarepublic.gap.com/', 'description': \"Say Hello To This Season's Latest & Greatest Styles. Find Your Perfect Fit Today. Explore Pieces Designed To Open A World Of Possibilities For A Life With No Boundaries. Reusable Cloth Masks. Free Shipping On $50+. New Summer Arrivals. Extended Sizes Available.\", 'sitelinks': [{'title': 'Men’s Tees', 'link': 'https://bananarepublic.gap.com/browse/category.do?cid=80117', 'tracking_link': 'https://www.google.com/aclk?sa=l&ai=DChcSEwiE7q7rsovqAhXBg5EKHYDKBuoYABAIGgJjZQ&sig=AOD64_3DYryhJNCo_zNIeARfRPHRlQtqhw&adurl=&q='}, {'title': 'Men’s New Arrivals', 'link': 'https://bananarepublic.gap.com/browse/category.do?cid=13846', 'tracking_link': 'https://www.google.com/aclk?sa=l&ai=DChcSEwiE7q7rsovqAhXBg5EKHYDKBuoYABAOGgJjZQ&sig=AOD64_2YRtJ7_YJcmgae9sOucb_fkU-PAw&adurl=&q='}, {'title': \"Men's Summer Suit Guide\", 'link': 'https://bananarepublic.gap.com/browse/info.do?cid=1139743', 'tracking_link': 'https://www.google.com/aclk?sa=l&ai=DChcSEwiE7q7rsovqAhXBg5EKHYDKBuoYABATGgJjZQ&sig=AOD64_0OYqT64xjNExcWDN0K5rn2yPwHhA&adurl=&q='}, {'title': \"Men's Core Temp Pants\", 'link': 'https://bananarepublic.gap.com/browse/category.do?cid=1156836', 'tracking_link': 'https://www.google.com/aclk?sa=l&ai=DChcSEwiE7q7rsovqAhXBg5EKHYDKBuoYABAXGgJjZQ&sig=AOD64_26xw-T4d8nDrKvkI_d-LHsqTTBGw&adurl=&q='}]}], 'pagination': {'current': 1, 'next': 'https://www.google.com/search?q=T+shirt&gl=us&hl=en&tbs=vw:l,cat:212,ss:44&tbm=shop&ei=WWLrXssv27_k5Q_9wbCQDw&start=20&sa=N&ved=0ahUKEwiLwKrrsovqAhXbH7kGHf0gDPIQ8NMDCL8F', 'other_pages': {'2': 'https://www.google.com/search?q=T+shirt&gl=us&hl=en&tbs=vw:l,cat:212,ss:44&tbm=shop&ei=WWLrXssv27_k5Q_9wbCQDw&start=20&sa=N&ved=0ahUKEwiLwKrrsovqAhXbH7kGHf0gDPIQ8tMDCK0F', '3': 'https://www.google.com/search?q=T+shirt&gl=us&hl=en&tbs=vw:l,cat:212,ss:44&tbm=shop&ei=WWLrXssv27_k5Q_9wbCQDw&start=40&sa=N&ved=0ahUKEwiLwKrrsovqAhXbH7kGHf0gDPIQ8tMDCK8F', '4': 'https://www.google.com/search?q=T+shirt&gl=us&hl=en&tbs=vw:l,cat:212,ss:44&tbm=shop&ei=WWLrXssv27_k5Q_9wbCQDw&start=60&sa=N&ved=0ahUKEwiLwKrrsovqAhXbH7kGHf0gDPIQ8tMDCLEF', '5': 'https://www.google.com/search?q=T+shirt&gl=us&hl=en&tbs=vw:l,cat:212,ss:44&tbm=shop&ei=WWLrXssv27_k5Q_9wbCQDw&start=80&sa=N&ved=0ahUKEwiLwKrrsovqAhXbH7kGHf0gDPIQ8tMDCLMF', '6': 'https://www.google.com/search?q=T+shirt&gl=us&hl=en&tbs=vw:l,cat:212,ss:44&tbm=shop&ei=WWLrXssv27_k5Q_9wbCQDw&start=100&sa=N&ved=0ahUKEwiLwKrrsovqAhXbH7kGHf0gDPIQ8tMDCLUF', '7': 'https://www.google.com/search?q=T+shirt&gl=us&hl=en&tbs=vw:l,cat:212,ss:44&tbm=shop&ei=WWLrXssv27_k5Q_9wbCQDw&start=120&sa=N&ved=0ahUKEwiLwKrrsovqAhXbH7kGHf0gDPIQ8tMDCLcF', '8': 'https://www.google.com/search?q=T+shirt&gl=us&hl=en&tbs=vw:l,cat:212,ss:44&tbm=shop&ei=WWLrXssv27_k5Q_9wbCQDw&start=140&sa=N&ved=0ahUKEwiLwKrrsovqAhXbH7kGHf0gDPIQ8tMDCLkF', '9': 'https://www.google.com/search?q=T+shirt&gl=us&hl=en&tbs=vw:l,cat:212,ss:44&tbm=shop&ei=WWLrXssv27_k5Q_9wbCQDw&start=160&sa=N&ved=0ahUKEwiLwKrrsovqAhXbH7kGHf0gDPIQ8tMDCLsF', '10': 'https://www.google.com/search?q=T+shirt&gl=us&hl=en&tbs=vw:l,cat:212,ss:44&tbm=shop&ei=WWLrXssv27_k5Q_9wbCQDw&start=180&sa=N&ved=0ahUKEwiLwKrrsovqAhXbH7kGHf0gDPIQ8tMDCL0F'}, 'api_pagination': {'next': 'https://api.scaleserp.com/search?api_key=EE828C2230C5477CA4EE6E1A1C7D8C69&location=New%20York,New%20York,United%20States&search_type=shopping&q=T%20shirt&page=3', 'other_pages': {'2': 'https://api.scaleserp.com/search?api_key=EE828C2230C5477CA4EE6E1A1C7D8C69&location=New%20York,New%20York,United%20States&search_type=shopping&q=T%20shirt&page=3', '3': 'https://api.scaleserp.com/search?api_key=EE828C2230C5477CA4EE6E1A1C7D8C69&location=New%20York,New%20York,United%20States&search_type=shopping&q=T%20shirt&page=5', '4': 'https://api.scaleserp.com/search?api_key=EE828C2230C5477CA4EE6E1A1C7D8C69&location=New%20York,New%20York,United%20States&search_type=shopping&q=T%20shirt&page=7', '5': 'https://api.scaleserp.com/search?api_key=EE828C2230C5477CA4EE6E1A1C7D8C69&location=New%20York,New%20York,United%20States&search_type=shopping&q=T%20shirt&page=9', '6': 'https://api.scaleserp.com/search?api_key=EE828C2230C5477CA4EE6E1A1C7D8C69&location=New%20York,New%20York,United%20States&search_type=shopping&q=T%20shirt&page=11', '7': 'https://api.scaleserp.com/search?api_key=EE828C2230C5477CA4EE6E1A1C7D8C69&location=New%20York,New%20York,United%20States&search_type=shopping&q=T%20shirt&page=13', '8': 'https://api.scaleserp.com/search?api_key=EE828C2230C5477CA4EE6E1A1C7D8C69&location=New%20York,New%20York,United%20States&search_type=shopping&q=T%20shirt&page=15', '9': 'https://api.scaleserp.com/search?api_key=EE828C2230C5477CA4EE6E1A1C7D8C69&location=New%20York,New%20York,United%20States&search_type=shopping&q=T%20shirt&page=17', '10': 'https://api.scaleserp.com/search?api_key=EE828C2230C5477CA4EE6E1A1C7D8C69&location=New%20York,New%20York,United%20States&search_type=shopping&q=T%20shirt&page=19'}}}, 'shopping_results': [{'title': 'Adidas Originals | Men New Icon Cotton Jersey T-shirt Black S', 'id': '5520427062197542377', 'link': 'https://www.google.com/shopping/product/5520427062197542377', 'price': 24, 'price_raw': '$24.00', 'merchant': 'LUISAVIAROMA.COM', 'snippet': 'Adidas Originals California 3 Stripes T Shirt In Black A white ribbed crew neck and raglan style short sleeves with ribbed ...', 'rating': 4.7, 'reviews': 6975, 'image': 'https://api.scaleserp.com/download/images/1806202012/ebf90a0598191595fd822ede499848103df6028f.webp', 'position': 1}, {'title': \"Nike Men's Legend 2.0 Short Sleeve T-Shirt Black/Matte Silver, Large - Men's Athletic Performance Tops at Academy Sports\", 'id': '9442341117280817821', 'link': 'https://www.google.com/shopping/product/9442341117280817821', 'price': 18.75, 'price_raw': '$18.75', 'merchant': 'Academy Sports + Outdoors', 'snippet': 'The ribbed collar and short-sleeve silhouette help you move with ease while keeping you cool and ventilated. Dri-FIT ...', 'rating': 4.6, 'reviews': 1142, 'position': 2}, {'title': \"Under Armour Men's UA Tech T-Shirt Black, Small - Men's Athletic Performance Tops at Academy Sports\", 'id': '3279948418648804319', 'link': 'https://www.google.com/shopping/product/3279948418648804319', 'price': 18.75, 'price_raw': '$18.75', 'merchant': 'Academy Sports + Outdoors', 'snippet': 'Train in comfort in this Under Armour Technical Training T Shirt, crafted with a ribbed crew neck and short sleeves, plus ...', 'rating': 4.5, 'reviews': 1206, 'image': 'https://api.scaleserp.com/download/images/1806202012/1adaca796637c25522684701a3fc24bbddc81674.webp', 'position': 3}, {'title': \"Go Away I'm Married - One Man Is Enough T-Shirt, Women's, Size: Adult L, White\", 'link': 'https://www.google.com/aclk?sa=L&ai=DChcSEwiE7q7rsovqAhXBg5EKHYDKBuoYABAKGgJjZQ&sig=AOD64_3u0ljxNyeJa9d09U4IHKsrrWe-xQ&ctype=5&q=&ved=0ahUKEwiLwKrrsovqAhXbH7kGHf0gDPIQwBMIvwM&adurl=', 'price': 24.25, 'price_raw': '$24.25', 'merchant': 'Zazzle', 'snippet': \"Go away I'm married - one man is enough T-shirt, Women's, Size: Adult L, White Gender: female.\", 'id': '17764648496571320554', 'position': 4}, {'title': 'Guys Must-Have Crewneck T-Shirt in Red Size S from Hollister', 'link': 'https://www.google.com/aclk?sa=L&ai=DChcSEwiE7q7rsovqAhXBg5EKHYDKBuoYABAMGgJjZQ&sig=AOD64_2GKGJm9JXMScy3npfMrKwaCG4fgg&ctype=5&q=&ved=0ahUKEwiLwKrrsovqAhXbH7kGHf0gDPIQwBMIyAM&adurl=', 'price': 6.48, 'price_raw': '$6.48', 'merchant': 'Hollister Co - Official', 'snippet': 'A soft cotton tee in our signature, comfortably slim fit. Featuring a crewneck, short sleeves and icon at left chest.', 'id': '12046119095684400495', 'image': 'https://api.scaleserp.com/download/images/1806202012/1ce28faad9ad0139c6326f6877cdde64712f37d8.webp', 'position': 5}, {'title': 'Red/White Box Logo V2 Tee, Large / Red/White', 'link': 'https://www.google.com/aclk?sa=L&ai=DChcSEwiE7q7rsovqAhXBg5EKHYDKBuoYABAQGgJjZQ&sig=AOD64_075VByMJPwMRJDDqxiri-rfrOqLw&ctype=5&q=&ved=0ahUKEwiLwKrrsovqAhXbH7kGHf0gDPIQwBMI1AM&adurl=', 'price': 6.07, 'price_raw': '$6.07', 'merchant': 'God is Dope', 'snippet': 'Designed with you in mind, this 100% cotton box logo tee will soon be a staple in your closet. \"Red/White\" Box Logo V2 Tee ...', 'id': '17266733208210590504', 'image': 'https://encrypted-tbn2.gstatic.com/shopping?q=tbn:ANd9GcRyxRVSzQFQMQNrNeHz-YLhvu5q1IHone5EDG6pTP5zqg9Rps3Jc1EUK705IZPzA4pXPfHmZDsICaENfXb2DezUmKGOqqt2Wx-SJwnQq_Y&usqp=CAE', 'position': 6}, {'title': 'Make Your Own Tee', 'link': 'https://www.google.com/aclk?sa=L&ai=DChcSEwiE7q7rsovqAhXBg5EKHYDKBuoYABAPGgJjZQ&sig=AOD64_12sFl6qoHAfjo7cLQRT6LRomlYgA&ctype=5&q=&ved=0ahUKEwiLwKrrsovqAhXbH7kGHf0gDPIQwBMI3AM&adurl=', 'price': 2.95, 'price_raw': '$2.95', 'merchant': 'AlliedShirts.com', 'snippet': 'Design your own make your own tee at Allied Shirts! Our easy to use design tool allows you to make, share, and wear your very ...', 'rating': 4.5, 'reviews': 1396, 'id': '8459102154875088259', 'image': 'https://encrypted-tbn0.gstatic.com/shopping?q=tbn:ANd9GcRkL9rkg_yI5zuNhpkfPTeewMoExo5us5QOfM-PQtfns9HzIMihDX2d2J9AmOgknq2AxKi58aPhRNv0xkSjZdU_V2yBL55jqCP8XStDyWId&usqp=CAE', 'position': 7}, {'title': \"Banana Republic Factory Men's Elephant Logo Graphic T-Shirt Carburetor Navy Regular Size XL\", 'link': 'https://www.google.com/aclk?sa=L&ai=DChcSEwiE7q7rsovqAhXBg5EKHYDKBuoYABAWGgJjZQ&sig=AOD64_33wxMLYvDHEegGIEGVb0_P9Bv8fw&ctype=5&q=&ved=0ahUKEwiLwKrrsovqAhXbH7kGHf0gDPIQwBMI5gM&adurl=', 'price': 14.99, 'price_raw': '$14.99', 'merchant': 'Banana Republic Factory', 'snippet': 'Great gift for graduations and Father’s Day. Crew neck. Short sleeves. Straight hem. Made exclusively for Banana Republic ...', 'rating': 4.7, 'reviews': 13, 'id': '7804114130856439498', 'image': 'https://encrypted-tbn3.gstatic.com/shopping?q=tbn:ANd9GcRmf3G8LVbFCorQR0Y_3PcYNCwVEJuELNwUQYiTxuV2QOOH_74uMcz6TgCAc0LU0G6owSEbIoWCdLu0ubZJ4S_BNMUp8o39NtfUzKcOw__Uii9d5rZY4Dk3hA&usqp=CAE', 'position': 8}, {'title': 'White/Red Just God V2 Tee, Small', 'link': 'https://www.google.com/aclk?sa=L&ai=DChcSEwiE7q7rsovqAhXBg5EKHYDKBuoYABAUGgJjZQ&sig=AOD64_1h3FCHeUTKJaLHG1grpxs9LVgD2w&ctype=5&q=&ved=0ahUKEwiLwKrrsovqAhXbH7kGHf0gDPIQwBMI8AM&adurl=', 'price': 4.44, 'price_raw': '$4.44', 'merchant': 'God is Dope', 'snippet': 'Premium white tee with our famous Just God vertical logo graphic in \"RED\". Unisex 100% cotton True to size.', 'id': '12346294149065402696', 'image': 'https://encrypted-tbn0.gstatic.com/shopping?q=tbn:ANd9GcTwraDsgujqaOE4Mr_wLTt1i2smaMzU2nLJyFeqcN-F0LNPUgjVtiyoo8fppnR-2Ajq_AVXfVpZudJFOAvvR6eXmkIQTXdHK4Y89IostZub&usqp=CAE', 'position': 9}, {'title': 'Create Your Own Shirt, Size: S', 'link': 'https://www.google.com/aclk?sa=L&ai=DChcSEwiE7q7rsovqAhXBg5EKHYDKBuoYABAZGgJjZQ&sig=AOD64_2CoCe6XWJIQayIhZNUhHbhtb2baQ&ctype=5&q=&ved=0ahUKEwiLwKrrsovqAhXbH7kGHf0gDPIQwBMI-gM&adurl=', 'price': 2.7, 'price_raw': '$2.70', 'merchant': 'Spreadshirt.com', 'snippet': 'Add your own text, logos, photos and more to T-shirts for men, women and kids. This is our best seller for a reason. Relaxed ...', 'id': '8015487481936194622', 'image': 'https://encrypted-tbn3.gstatic.com/shopping?q=tbn:ANd9GcRioeZ5clkofBr8HHGK2AbP-ndYvHUSmIBeyCH8HYiI_o05hzlzZYVGZB1yD8D_b21arT-eZpdlF2vHLNGCwMc2als91l6Bz7dWnR0CutatED0q4i-GTD_l&usqp=CAE', 'position': 10}, {'title': \"Can't Have Nice Things - T-Shirt & Hoodie - Hoodie/T-Shirt | 247365threads\", 'link': 'https://www.google.com/aclk?sa=L&ai=DChcSEwiE7q7rsovqAhXBg5EKHYDKBuoYABAaGgJjZQ&sig=AOD64_0sbUietIwf5OBvsvcIRca-ZJtsyQ&ctype=5&q=&ved=0ahUKEwiLwKrrsovqAhXbH7kGHf0gDPIQwBMIgwQ&adurl=', 'price': 13.95, 'price_raw': '$13.95', 'merchant': '247365threads.com', 'snippet': '24.7.365 Democrat Collection \"This is why we can\\'t have nice things\" design on front chest with \"America Flag\" on left sleeve ...', 'id': '11976521666926305630', 'image': 'https://encrypted-tbn0.gstatic.com/shopping?q=tbn:ANd9GcTt_K3xmIKeYp2sJcYe42uGBeQK2UKWkPpkkzizcUI97oJjrfT0jlo_3A_HKgdbBPhcdWyX3CnkpACVWUsA66wwRyajnpfNnjcIE6xjxidvkO-Jp_F6LWhS&usqp=CAE', 'position': 11}, {'title': 'Dumpster Fire 2020 T-Shirt - Socially Distant Tee', 'link': 'https://www.google.com/aclk?sa=L&ai=DChcSEwiE7q7rsovqAhXBg5EKHYDKBuoYABAfGgJjZQ&sig=AOD64_0fGP8KxD9RK7fGUXNWMVls2-UJdw&ctype=5&q=&ved=0ahUKEwiLwKrrsovqAhXbH7kGHf0gDPIQwBMIiwQ&adurl=', 'price': 6, 'price_raw': '$6.00', 'merchant': '6 Dollar Shirts', 'snippet': 'Wishing you a bright and warm year! Thousands of designs available. Designed and printed in the USA. Perfect for anyone ...', 'id': '12928971864618078535', 'image': 'https://encrypted-tbn1.gstatic.com/shopping?q=tbn:ANd9GcQyuzCbrlfWj6KMf4QUm8afQvsBhJNyJEVOcUGQqV3fb1uSGNZIxZ8nRat6iegfTvIfA235UGZJrjXhzepp0DZOVtveTpQMTPa59zEbBeA&usqp=CAE', 'position': 12}, {'title': 'Funny Pro Democrats T-Shirt, Hoodie, Tank Top', 'link': 'https://www.google.com/aclk?sa=L&ai=DChcSEwiE7q7rsovqAhXBg5EKHYDKBuoYABAeGgJjZQ&sig=AOD64_3x_NBSeZiyWf0zF6PlMubawzxuiA&ctype=5&q=&ved=0ahUKEwiLwKrrsovqAhXbH7kGHf0gDPIQwBMIlgQ&adurl=', 'price': 25.95, 'price_raw': '$25.95', 'merchant': 'Chummy Tees', 'snippet': 'You can order this \"Funny Pro Democrats\" t-shirt on several different sizes, colors, and styles of shirts including short ...', 'id': '13647702190696639717', 'image': 'https://encrypted-tbn2.gstatic.com/shopping?q=tbn:ANd9GcRaybY0y9eXJhgyWE2bXa_qB0kJMeqlo147gOnmwULOK2w7a-TY1bYAeON4jWLx27jOgmCUhomgNFgwrwa_5tgtQpkXdDd-qHose6eCM-h1nsZHaiS2dgDa&usqp=CAE', 'position': 13}, {'title': \"INTO THE AM Men's Graphic Tees - Short Sleeve T-Shirts for Men\", 'id': '11308713096937313640', 'link': 'https://www.google.com/shopping/product/11308713096937313640', 'price': 23.83, 'price_raw': '$23.83', 'merchant': 'Swagandlegit', 'snippet': 'Ultra-Soft 60/40 Cotton-Poly Blend Tumble dry low This ultra-soft graphic tee is ready to slide into your daily style rotation ...', 'rating': 5, 'reviews': 38, 'image': 'https://encrypted-tbn3.gstatic.com/shopping?q=tbn:ANd9GcTVoO6YFxV4cp6uAA7wxG1XYLbxfagPqB4u1Vwa2pK9dT0s0M5ZlSDBhUII_63SMja1mweBO177UA_xEhR-GKZ5-wwXPrjYRyHZRzDFvahR-Rqv1iq1JO2HOw&usqp=CAE', 'position': 14}, {'title': 'Guys Floral Print Logo Graphic Tee in Black Size XS from Hollister', 'link': 'https://www.google.com/aclk?sa=L&ai=DChcSEwiE7q7rsovqAhXBg5EKHYDKBuoYABAlGgJjZQ&sig=AOD64_0uHPWJ-m8Tmea3aCjTqQYbQnIHwQ&ctype=5&q=&ved=0ahUKEwiLwKrrsovqAhXbH7kGHf0gDPIQwBMIqwQ&adurl=', 'price': 7.98, 'price_raw': '$7.98', 'merchant': 'Hollister Co - Official', 'snippet': 'A soft jersey tee featuring printed floral and logo graphics, crewneck and short sleeves.', 'id': '4743535512856769928', 'image': 'https://encrypted-tbn3.gstatic.com/shopping?q=tbn:ANd9GcS_284BGxnVMt-8WDQ5XtvTSsxCaOyId9a67l--YUc7ehZVZsZbbM3Q-hUpepck9mLUh1R6WQnIBWebnmhdomUWX5-N_nFs_eoHLM2kqfLQDIWxt93MiXmddQ&usqp=CAE', 'position': 15}, {'title': 'Canada T-Shirt - Graphic & Vintage International Tee', 'link': 'https://www.google.com/aclk?sa=L&ai=DChcSEwiE7q7rsovqAhXBg5EKHYDKBuoYABAmGgJjZQ&sig=AOD64_1a7reQql8s17Mz9XayanIQ73pWOg&ctype=5&q=&ved=0ahUKEwiLwKrrsovqAhXbH7kGHf0gDPIQwBMIuAQ&adurl=', 'price': 6, 'price_raw': '$6.00', 'merchant': '6 Dollar Shirts', 'snippet': \"As the world's second largest country, you Ottawa give it a visit! Thousands of designs available. Designed and printed in the ...\", 'id': '5765737156764849691', 'image': 'https://encrypted-tbn1.gstatic.com/shopping?q=tbn:ANd9GcSElHBxKPQuhH3B42B-dCvUa0EtU8uktBGcpoD5rIbUM7IHJcJx9i4VXkFeBnwBV-2reKiUGCkScFKd3YJLsbGvqiowAGpG3OuQNDChvHkijhfQRRiEiP42&usqp=CAE', 'position': 16}, {'title': '4PF - Patch Colors Tee - Black, M / BLACKFathers Day Special Save 40% w/ code: 40', 'link': 'https://www.google.com/aclk?sa=L&ai=DChcSEwiE7q7rsovqAhXBg5EKHYDKBuoYABAoGgJjZQ&sig=AOD64_2DdkhG6vCPxGjGEoB4wxkYTPR0FQ&ctype=5&q=&ved=0ahUKEwiLwKrrsovqAhXbH7kGHf0gDPIQwBMIwQQ&adurl=', 'price': 14.99, 'price_raw': '$14.99', 'merchant': 'Streetwear Official', 'snippet': '4PF Colors T-shirt with graphic on front. 100% Cotton Black T-shirt. .', 'id': '17982971429838975179', 'image': 'https://encrypted-tbn2.gstatic.com/shopping?q=tbn:ANd9GcRf8P8ffsusgFwkD4YvCD35pi8y0RXiEwakQYm5Qil4ilIv6HyT0sZscrhc2d1lmUqblsT47WIqetCWCbC4b0nTUsWQpsf31F3YMR3tUjp2CQOniXX_Jo-8vg&usqp=CAE', 'position': 17}, {'title': \"Abercrombie & Fitch Men's Short-Sleeve Icon Crew Tee in Navy Blue with White - Size XS\", 'link': 'https://www.google.com/aclk?sa=L&ai=DChcSEwiE7q7rsovqAhXBg5EKHYDKBuoYABAtGgJjZQ&sig=AOD64_1cAPGz2GXC_bLy-e1QWpKAelPuXg&ctype=5&q=&ved=0ahUKEwiLwKrrsovqAhXbH7kGHf0gDPIQwBMIyQQ&adurl=', 'price': 18, 'price_raw': '$18.00', 'merchant': 'Abercrombie & Fitch', 'snippet': 'Classic crewneck short-sleeve tee with embroidered icon detail in our soft fabric.', 'rating': 4.8, 'reviews': 29, 'id': '9718587156045748209', 'image': 'https://encrypted-tbn0.gstatic.com/shopping?q=tbn:ANd9GcTYxHaQQVr9JTefOnhDrw4T3k8C7-vZPH74CVsKsyr5wvVYEwyBCTaORhn_Im55NDrJ5lIySOHCTujjJLFWYhy6OzkQo7Jhfmya8-_DZuNNEwol4Ko_UtK7WQ&usqp=CAE', 'position': 18}, {'title': 'Unisex Pride T-Shirt', 'link': 'https://www.google.com/aclk?sa=L&ai=DChcSEwiE7q7rsovqAhXBg5EKHYDKBuoYABAuGgJjZQ&sig=AOD64_3WtOp-A1UDWS2emCiFmKcKDuNOjg&ctype=5&q=&ved=0ahUKEwiLwKrrsovqAhXbH7kGHf0gDPIQwBMI0wQ&adurl=', 'price': 28, 'price_raw': '$28.00', 'merchant': 'SchittsCreek.Shop', 'snippet': 'Cotton-blend unisex t-shirt in heather black, screen printed on the front in the Pride Ampersand design.', 'id': '7324406426248038581', 'image': 'https://encrypted-tbn0.gstatic.com/shopping?q=tbn:ANd9GcThe1SqywX8EUpsWD5Qx-iNj-VfNo5nDvDsx0KBnRg5zmypTTSxXoSTS_-75CcgCWmiwLHaN7wW49740qcWtTfMXo8fkl6jJnbpZOyCe4fKTJM6cODUVgw&usqp=CAE', 'position': 19}, {'title': 'Gildan White T-Shirts Wholesale', 'link': 'https://www.google.com/aclk?sa=L&ai=DChcSEwiE7q7rsovqAhXBg5EKHYDKBuoYABAvGgJjZQ&sig=AOD64_3j1LIME4gt9HkZ1u8vPPAuccxLpg&ctype=5&q=&ved=0ahUKEwiLwKrrsovqAhXbH7kGHf0gDPIQwBMI3QQ&adurl=', 'price': 1.67, 'price_raw': '$1.67', 'merchant': 'BulkApparel.com', 'id': '16419989847384509019', 'image': 'https://encrypted-tbn1.gstatic.com/shopping?q=tbn:ANd9GcRoUjbfunlutkvSnxvzIWAfe44NwpvcW67PSIiJEgQaujqxOoI3cv5QjrR56R4sjZm_21gskpHqh8057FoNgUVMyjV6iGwWsBH8Jv6CldU4v_vhoVLV8ahwJg&usqp=CAE', 'position': 20}]}\n"
     ]
    }
   ],
   "source": [
    "import requests\n",
    "import urllib.request, json\n",
    "import pandas as pd\n",
    "from pandas.io.json import json_normalize\n",
    "def load_df(url):\n",
    "    \n",
    "    url = ('https://api.scaleserp.com/search?api_key=EE828C2230C5477CA4EE6E1A1C7D8C69&engine=google&location=New+York%2CNew+York%2CUnited+States&search_type=shopping&q=T+shirt')\n",
    "    r = requests.get(url)\n",
    "    r_json = requests.get(url).json()\n",
    "    df = json_normalize(r_json)\n",
    "    return df\n",
    "\n",
    "print (r.json())"
   ]
  },
  {
   "cell_type": "code",
   "execution_count": 10,
   "metadata": {},
   "outputs": [],
   "source": [
    "data = load_df(url)"
   ]
  },
  {
   "cell_type": "code",
   "execution_count": 13,
   "metadata": {},
   "outputs": [
    {
     "data": {
      "text/html": [
       "<div>\n",
       "<style scoped>\n",
       "    .dataframe tbody tr th:only-of-type {\n",
       "        vertical-align: middle;\n",
       "    }\n",
       "\n",
       "    .dataframe tbody tr th {\n",
       "        vertical-align: top;\n",
       "    }\n",
       "\n",
       "    .dataframe thead th {\n",
       "        text-align: right;\n",
       "    }\n",
       "</style>\n",
       "<table border=\"1\" class=\"dataframe\">\n",
       "  <thead>\n",
       "    <tr style=\"text-align: right;\">\n",
       "      <th></th>\n",
       "      <th>ads</th>\n",
       "      <th>pagination.api_pagination.next</th>\n",
       "      <th>pagination.api_pagination.other_pages.10</th>\n",
       "      <th>pagination.api_pagination.other_pages.2</th>\n",
       "      <th>pagination.api_pagination.other_pages.3</th>\n",
       "      <th>pagination.api_pagination.other_pages.4</th>\n",
       "      <th>pagination.api_pagination.other_pages.5</th>\n",
       "      <th>pagination.api_pagination.other_pages.6</th>\n",
       "      <th>pagination.api_pagination.other_pages.7</th>\n",
       "      <th>pagination.api_pagination.other_pages.8</th>\n",
       "      <th>...</th>\n",
       "      <th>search_metadata.html_url</th>\n",
       "      <th>search_metadata.json_url</th>\n",
       "      <th>search_metadata.location_auto_message</th>\n",
       "      <th>search_metadata.processed_at</th>\n",
       "      <th>search_metadata.timing</th>\n",
       "      <th>search_metadata.total_time_taken</th>\n",
       "      <th>search_parameters.location</th>\n",
       "      <th>search_parameters.q</th>\n",
       "      <th>search_parameters.search_type</th>\n",
       "      <th>shopping_results</th>\n",
       "    </tr>\n",
       "  </thead>\n",
       "  <tbody>\n",
       "    <tr>\n",
       "      <th>0</th>\n",
       "      <td>[{'position': 1, 'block_position': 'bottom', '...</td>\n",
       "      <td>https://api.scaleserp.com/search?api_key=EE828...</td>\n",
       "      <td>https://api.scaleserp.com/search?api_key=EE828...</td>\n",
       "      <td>https://api.scaleserp.com/search?api_key=EE828...</td>\n",
       "      <td>https://api.scaleserp.com/search?api_key=EE828...</td>\n",
       "      <td>https://api.scaleserp.com/search?api_key=EE828...</td>\n",
       "      <td>https://api.scaleserp.com/search?api_key=EE828...</td>\n",
       "      <td>https://api.scaleserp.com/search?api_key=EE828...</td>\n",
       "      <td>https://api.scaleserp.com/search?api_key=EE828...</td>\n",
       "      <td>https://api.scaleserp.com/search?api_key=EE828...</td>\n",
       "      <td>...</td>\n",
       "      <td>https://api.scaleserp.com/search?api_key=EE828...</td>\n",
       "      <td>https://api.scaleserp.com/search?api_key=EE828...</td>\n",
       "      <td>We have automatically set the 'google_domain',...</td>\n",
       "      <td>2020-06-18T12:53:16.002Z</td>\n",
       "      <td>[global_init - 0ms (total 0ms), auth_apikey - ...</td>\n",
       "      <td>3.53</td>\n",
       "      <td>New York,New York,United States</td>\n",
       "      <td>T shirt</td>\n",
       "      <td>shopping</td>\n",
       "      <td>[{'title': 'adidas Originals California Raglan...</td>\n",
       "    </tr>\n",
       "  </tbody>\n",
       "</table>\n",
       "<p>1 rows × 39 columns</p>\n",
       "</div>"
      ],
      "text/plain": [
       "                                                 ads  \\\n",
       "0  [{'position': 1, 'block_position': 'bottom', '...   \n",
       "\n",
       "                      pagination.api_pagination.next  \\\n",
       "0  https://api.scaleserp.com/search?api_key=EE828...   \n",
       "\n",
       "            pagination.api_pagination.other_pages.10  \\\n",
       "0  https://api.scaleserp.com/search?api_key=EE828...   \n",
       "\n",
       "             pagination.api_pagination.other_pages.2  \\\n",
       "0  https://api.scaleserp.com/search?api_key=EE828...   \n",
       "\n",
       "             pagination.api_pagination.other_pages.3  \\\n",
       "0  https://api.scaleserp.com/search?api_key=EE828...   \n",
       "\n",
       "             pagination.api_pagination.other_pages.4  \\\n",
       "0  https://api.scaleserp.com/search?api_key=EE828...   \n",
       "\n",
       "             pagination.api_pagination.other_pages.5  \\\n",
       "0  https://api.scaleserp.com/search?api_key=EE828...   \n",
       "\n",
       "             pagination.api_pagination.other_pages.6  \\\n",
       "0  https://api.scaleserp.com/search?api_key=EE828...   \n",
       "\n",
       "             pagination.api_pagination.other_pages.7  \\\n",
       "0  https://api.scaleserp.com/search?api_key=EE828...   \n",
       "\n",
       "             pagination.api_pagination.other_pages.8  \\\n",
       "0  https://api.scaleserp.com/search?api_key=EE828...   \n",
       "\n",
       "                         ...                          \\\n",
       "0                        ...                           \n",
       "\n",
       "                            search_metadata.html_url  \\\n",
       "0  https://api.scaleserp.com/search?api_key=EE828...   \n",
       "\n",
       "                            search_metadata.json_url  \\\n",
       "0  https://api.scaleserp.com/search?api_key=EE828...   \n",
       "\n",
       "               search_metadata.location_auto_message  \\\n",
       "0  We have automatically set the 'google_domain',...   \n",
       "\n",
       "  search_metadata.processed_at  \\\n",
       "0     2020-06-18T12:53:16.002Z   \n",
       "\n",
       "                              search_metadata.timing  \\\n",
       "0  [global_init - 0ms (total 0ms), auth_apikey - ...   \n",
       "\n",
       "  search_metadata.total_time_taken       search_parameters.location  \\\n",
       "0                             3.53  New York,New York,United States   \n",
       "\n",
       "  search_parameters.q search_parameters.search_type  \\\n",
       "0             T shirt                      shopping   \n",
       "\n",
       "                                    shopping_results  \n",
       "0  [{'title': 'adidas Originals California Raglan...  \n",
       "\n",
       "[1 rows x 39 columns]"
      ]
     },
     "execution_count": 13,
     "metadata": {},
     "output_type": "execute_result"
    }
   ],
   "source": [
    "data.head()"
   ]
  },
  {
   "cell_type": "code",
   "execution_count": 14,
   "metadata": {},
   "outputs": [
    {
     "ename": "ModuleNotFoundError",
     "evalue": "No module named 'plotly'",
     "output_type": "error",
     "traceback": [
      "\u001b[1;31m---------------------------------------------------------------------------\u001b[0m",
      "\u001b[1;31mModuleNotFoundError\u001b[0m                       Traceback (most recent call last)",
      "\u001b[1;32m<ipython-input-14-ab0f498dd3ae>\u001b[0m in \u001b[0;36m<module>\u001b[1;34m()\u001b[0m\n\u001b[0;32m     22\u001b[0m \u001b[1;32mfrom\u001b[0m \u001b[0mmatplotlib\u001b[0m \u001b[1;32mimport\u001b[0m \u001b[0mgridspec\u001b[0m\u001b[1;33m\u001b[0m\u001b[0m\n\u001b[0;32m     23\u001b[0m \u001b[1;32mfrom\u001b[0m \u001b[0mscipy\u001b[0m\u001b[1;33m.\u001b[0m\u001b[0msparse\u001b[0m \u001b[1;32mimport\u001b[0m \u001b[0mhstack\u001b[0m\u001b[1;33m\u001b[0m\u001b[0m\n\u001b[1;32m---> 24\u001b[1;33m \u001b[1;32mimport\u001b[0m \u001b[0mplotly\u001b[0m\u001b[1;33m\u001b[0m\u001b[0m\n\u001b[0m\u001b[0;32m     25\u001b[0m \u001b[1;32mimport\u001b[0m \u001b[0mplotly\u001b[0m\u001b[1;33m.\u001b[0m\u001b[0mfigure_factory\u001b[0m \u001b[1;32mas\u001b[0m \u001b[0mff\u001b[0m\u001b[1;33m\u001b[0m\u001b[0m\n\u001b[0;32m     26\u001b[0m \u001b[1;32mfrom\u001b[0m \u001b[0mplotly\u001b[0m\u001b[1;33m.\u001b[0m\u001b[0mgraph_objs\u001b[0m \u001b[1;32mimport\u001b[0m \u001b[0mScatter\u001b[0m\u001b[1;33m,\u001b[0m \u001b[0mLayout\u001b[0m\u001b[1;33m\u001b[0m\u001b[0m\n",
      "\u001b[1;31mModuleNotFoundError\u001b[0m: No module named 'plotly'"
     ]
    }
   ],
   "source": [
    "from PIL import Image\n",
    "import requests\n",
    "from io import BytesIO\n",
    "import matplotlib.pyplot as plt\n",
    "import numpy as np\n",
    "import pandas as pd\n",
    "import warnings\n",
    "from bs4 import BeautifulSoup\n",
    "from nltk.corpus import stopwords\n",
    "from nltk.tokenize import word_tokenize\n",
    "import nltk\n",
    "import math\n",
    "import time\n",
    "import re\n",
    "import os\n",
    "import seaborn as sns\n",
    "from collections import Counter\n",
    "from sklearn.feature_extraction.text import CountVectorizer\n",
    "from sklearn.feature_extraction.text import TfidfVectorizer\n",
    "from sklearn.metrics.pairwise import cosine_similarity  \n",
    "from sklearn.metrics import pairwise_distances\n",
    "from matplotlib import gridspec\n",
    "from scipy.sparse import hstack\n",
    "import plotly\n",
    "import plotly.figure_factory as ff\n",
    "from plotly.graph_objs import Scatter, Layout\n",
    "\n",
    "plotly.offline.init_notebook_mode(connected=True)\n",
    "warnings.filterwarnings(\"ignore\")"
   ]
  },
  {
   "cell_type": "code",
   "execution_count": 15,
   "metadata": {},
   "outputs": [
    {
     "name": "stdout",
     "output_type": "stream",
     "text": [
      "Number of data points :  1 Number of features/variables: 39\n"
     ]
    }
   ],
   "source": [
    "print ('Number of data points : ', data.shape[0], \\\n",
    "       'Number of features/variables:', data.shape[1])"
   ]
  },
  {
   "cell_type": "code",
   "execution_count": 16,
   "metadata": {},
   "outputs": [
    {
     "data": {
      "text/plain": [
       "Index(['ads', 'pagination.api_pagination.next',\n",
       "       'pagination.api_pagination.other_pages.10',\n",
       "       'pagination.api_pagination.other_pages.2',\n",
       "       'pagination.api_pagination.other_pages.3',\n",
       "       'pagination.api_pagination.other_pages.4',\n",
       "       'pagination.api_pagination.other_pages.5',\n",
       "       'pagination.api_pagination.other_pages.6',\n",
       "       'pagination.api_pagination.other_pages.7',\n",
       "       'pagination.api_pagination.other_pages.8',\n",
       "       'pagination.api_pagination.other_pages.9', 'pagination.current',\n",
       "       'pagination.next', 'pagination.other_pages.10',\n",
       "       'pagination.other_pages.2', 'pagination.other_pages.3',\n",
       "       'pagination.other_pages.4', 'pagination.other_pages.5',\n",
       "       'pagination.other_pages.6', 'pagination.other_pages.7',\n",
       "       'pagination.other_pages.8', 'pagination.other_pages.9',\n",
       "       'request_info.credits_remaining', 'request_info.credits_used',\n",
       "       'request_info.success',\n",
       "       'search_information.original_query_yields_zero_results',\n",
       "       'search_information.query_displayed', 'search_metadata.created_at',\n",
       "       'search_metadata.engine_url', 'search_metadata.html_url',\n",
       "       'search_metadata.json_url', 'search_metadata.location_auto_message',\n",
       "       'search_metadata.processed_at', 'search_metadata.timing',\n",
       "       'search_metadata.total_time_taken', 'search_parameters.location',\n",
       "       'search_parameters.q', 'search_parameters.search_type',\n",
       "       'shopping_results'],\n",
       "      dtype='object')"
      ]
     },
     "execution_count": 16,
     "metadata": {},
     "output_type": "execute_result"
    }
   ],
   "source": [
    "data.columns"
   ]
  },
  {
   "cell_type": "code",
   "execution_count": 17,
   "metadata": {},
   "outputs": [],
   "source": [
    "data = data[['ads', 'shopping_results']]"
   ]
  },
  {
   "cell_type": "code",
   "execution_count": 18,
   "metadata": {},
   "outputs": [
    {
     "name": "stdout",
     "output_type": "stream",
     "text": [
      "Number of data points :  1 Number of features: 2\n"
     ]
    }
   ],
   "source": [
    "print ('Number of data points : ', data.shape[0], \\\n",
    "       'Number of features:', data.shape[1])"
   ]
  },
  {
   "cell_type": "code",
   "execution_count": 19,
   "metadata": {},
   "outputs": [
    {
     "data": {
      "text/html": [
       "<div>\n",
       "<style scoped>\n",
       "    .dataframe tbody tr th:only-of-type {\n",
       "        vertical-align: middle;\n",
       "    }\n",
       "\n",
       "    .dataframe tbody tr th {\n",
       "        vertical-align: top;\n",
       "    }\n",
       "\n",
       "    .dataframe thead th {\n",
       "        text-align: right;\n",
       "    }\n",
       "</style>\n",
       "<table border=\"1\" class=\"dataframe\">\n",
       "  <thead>\n",
       "    <tr style=\"text-align: right;\">\n",
       "      <th></th>\n",
       "      <th>ads</th>\n",
       "      <th>shopping_results</th>\n",
       "    </tr>\n",
       "  </thead>\n",
       "  <tbody>\n",
       "    <tr>\n",
       "      <th>0</th>\n",
       "      <td>[{'position': 1, 'block_position': 'bottom', '...</td>\n",
       "      <td>[{'title': 'adidas Originals California Raglan...</td>\n",
       "    </tr>\n",
       "  </tbody>\n",
       "</table>\n",
       "</div>"
      ],
      "text/plain": [
       "                                                 ads  \\\n",
       "0  [{'position': 1, 'block_position': 'bottom', '...   \n",
       "\n",
       "                                    shopping_results  \n",
       "0  [{'title': 'adidas Originals California Raglan...  "
      ]
     },
     "execution_count": 19,
     "metadata": {},
     "output_type": "execute_result"
    }
   ],
   "source": [
    "data.head()"
   ]
  },
  {
   "cell_type": "code",
   "execution_count": 21,
   "metadata": {},
   "outputs": [
    {
     "name": "stdout",
     "output_type": "stream",
     "text": [
      "count                                                     1\n",
      "unique                                                    1\n",
      "top       [{'title': 'adidas Originals California Raglan...\n",
      "freq                                                      1\n",
      "Name: shopping_results, dtype: object\n"
     ]
    }
   ],
   "source": [
    "print(data['shopping_results'].describe())"
   ]
  },
  {
   "cell_type": "code",
   "execution_count": 23,
   "metadata": {},
   "outputs": [
    {
     "ename": "TypeError",
     "evalue": "unhashable type: 'list'",
     "output_type": "error",
     "traceback": [
      "\u001b[1;31m---------------------------------------------------------------------------\u001b[0m",
      "\u001b[1;31mTypeError\u001b[0m                                 Traceback (most recent call last)",
      "\u001b[1;32m<ipython-input-23-076a8171fa1d>\u001b[0m in \u001b[0;36m<module>\u001b[1;34m()\u001b[0m\n\u001b[1;32m----> 1\u001b[1;33m \u001b[0mbrand_count\u001b[0m \u001b[1;33m=\u001b[0m \u001b[0mCounter\u001b[0m\u001b[1;33m(\u001b[0m\u001b[0mlist\u001b[0m\u001b[1;33m(\u001b[0m\u001b[0mdata\u001b[0m\u001b[1;33m[\u001b[0m\u001b[1;34m'shopping_results'\u001b[0m\u001b[1;33m]\u001b[0m\u001b[1;33m)\u001b[0m\u001b[1;33m)\u001b[0m\u001b[1;33m\u001b[0m\u001b[0m\n\u001b[0m",
      "\u001b[1;32mC:\\python\\lib\\collections\\__init__.py\u001b[0m in \u001b[0;36m__init__\u001b[1;34m(*args, **kwds)\u001b[0m\n\u001b[0;32m    564\u001b[0m             \u001b[1;32mraise\u001b[0m \u001b[0mTypeError\u001b[0m\u001b[1;33m(\u001b[0m\u001b[1;34m'expected at most 1 arguments, got %d'\u001b[0m \u001b[1;33m%\u001b[0m \u001b[0mlen\u001b[0m\u001b[1;33m(\u001b[0m\u001b[0margs\u001b[0m\u001b[1;33m)\u001b[0m\u001b[1;33m)\u001b[0m\u001b[1;33m\u001b[0m\u001b[0m\n\u001b[0;32m    565\u001b[0m         \u001b[0msuper\u001b[0m\u001b[1;33m(\u001b[0m\u001b[0mCounter\u001b[0m\u001b[1;33m,\u001b[0m \u001b[0mself\u001b[0m\u001b[1;33m)\u001b[0m\u001b[1;33m.\u001b[0m\u001b[0m__init__\u001b[0m\u001b[1;33m(\u001b[0m\u001b[1;33m)\u001b[0m\u001b[1;33m\u001b[0m\u001b[0m\n\u001b[1;32m--> 566\u001b[1;33m         \u001b[0mself\u001b[0m\u001b[1;33m.\u001b[0m\u001b[0mupdate\u001b[0m\u001b[1;33m(\u001b[0m\u001b[1;33m*\u001b[0m\u001b[0margs\u001b[0m\u001b[1;33m,\u001b[0m \u001b[1;33m**\u001b[0m\u001b[0mkwds\u001b[0m\u001b[1;33m)\u001b[0m\u001b[1;33m\u001b[0m\u001b[0m\n\u001b[0m\u001b[0;32m    567\u001b[0m \u001b[1;33m\u001b[0m\u001b[0m\n\u001b[0;32m    568\u001b[0m     \u001b[1;32mdef\u001b[0m \u001b[0m__missing__\u001b[0m\u001b[1;33m(\u001b[0m\u001b[0mself\u001b[0m\u001b[1;33m,\u001b[0m \u001b[0mkey\u001b[0m\u001b[1;33m)\u001b[0m\u001b[1;33m:\u001b[0m\u001b[1;33m\u001b[0m\u001b[0m\n",
      "\u001b[1;32mC:\\python\\lib\\collections\\__init__.py\u001b[0m in \u001b[0;36mupdate\u001b[1;34m(*args, **kwds)\u001b[0m\n\u001b[0;32m    651\u001b[0m                     \u001b[0msuper\u001b[0m\u001b[1;33m(\u001b[0m\u001b[0mCounter\u001b[0m\u001b[1;33m,\u001b[0m \u001b[0mself\u001b[0m\u001b[1;33m)\u001b[0m\u001b[1;33m.\u001b[0m\u001b[0mupdate\u001b[0m\u001b[1;33m(\u001b[0m\u001b[0miterable\u001b[0m\u001b[1;33m)\u001b[0m \u001b[1;31m# fast path when counter is empty\u001b[0m\u001b[1;33m\u001b[0m\u001b[0m\n\u001b[0;32m    652\u001b[0m             \u001b[1;32melse\u001b[0m\u001b[1;33m:\u001b[0m\u001b[1;33m\u001b[0m\u001b[0m\n\u001b[1;32m--> 653\u001b[1;33m                 \u001b[0m_count_elements\u001b[0m\u001b[1;33m(\u001b[0m\u001b[0mself\u001b[0m\u001b[1;33m,\u001b[0m \u001b[0miterable\u001b[0m\u001b[1;33m)\u001b[0m\u001b[1;33m\u001b[0m\u001b[0m\n\u001b[0m\u001b[0;32m    654\u001b[0m         \u001b[1;32mif\u001b[0m \u001b[0mkwds\u001b[0m\u001b[1;33m:\u001b[0m\u001b[1;33m\u001b[0m\u001b[0m\n\u001b[0;32m    655\u001b[0m             \u001b[0mself\u001b[0m\u001b[1;33m.\u001b[0m\u001b[0mupdate\u001b[0m\u001b[1;33m(\u001b[0m\u001b[0mkwds\u001b[0m\u001b[1;33m)\u001b[0m\u001b[1;33m\u001b[0m\u001b[0m\n",
      "\u001b[1;31mTypeError\u001b[0m: unhashable type: 'list'"
     ]
    }
   ],
   "source": [
    "brand_count = Counter(list(data['shopping_results']))"
   ]
  },
  {
   "cell_type": "code",
   "execution_count": null,
   "metadata": {},
   "outputs": [],
   "source": []
  },
  {
   "cell_type": "code",
   "execution_count": null,
   "metadata": {},
   "outputs": [],
   "source": []
  }
 ],
 "metadata": {
  "kernelspec": {
   "display_name": "Python 3",
   "language": "python",
   "name": "python3"
  },
  "language_info": {
   "codemirror_mode": {
    "name": "ipython",
    "version": 3
   },
   "file_extension": ".py",
   "mimetype": "text/x-python",
   "name": "python",
   "nbconvert_exporter": "python",
   "pygments_lexer": "ipython3",
   "version": "3.7.0"
  }
 },
 "nbformat": 4,
 "nbformat_minor": 2
}
